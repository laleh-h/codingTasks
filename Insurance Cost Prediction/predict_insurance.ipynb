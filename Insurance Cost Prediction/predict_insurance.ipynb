{
 "cells": [
  {
   "cell_type": "code",
   "execution_count": 15,
   "id": "8908f2e7-1eda-4229-abce-1c41db247aa2",
   "metadata": {},
   "outputs": [
    {
     "name": "stdin",
     "output_type": "stream",
     "text": [
      "Enter your age:  42\n"
     ]
    },
    {
     "name": "stdout",
     "output_type": "stream",
     "text": [
      "Predicted charge is: 13197.4623979474\n"
     ]
    }
   ],
   "source": [
    "from joblib import load\n",
    "clf = load('insurance_bivariate_reg_model.joblib')\n",
    "\n",
    "age = int(input('Enter your age: '))\n",
    "predicted_insurance_charege = clf.predict([[age]])\n",
    "print(f\"Predicted charge is: {predicted_insurance_charege[0]}\" )"
   ]
  }
 ],
 "metadata": {
  "kernelspec": {
   "display_name": "Python 3 (ipykernel)",
   "language": "python",
   "name": "python3"
  },
  "language_info": {
   "codemirror_mode": {
    "name": "ipython",
    "version": 3
   },
   "file_extension": ".py",
   "mimetype": "text/x-python",
   "name": "python",
   "nbconvert_exporter": "python",
   "pygments_lexer": "ipython3",
   "version": "3.12.1"
  }
 },
 "nbformat": 4,
 "nbformat_minor": 5
}
