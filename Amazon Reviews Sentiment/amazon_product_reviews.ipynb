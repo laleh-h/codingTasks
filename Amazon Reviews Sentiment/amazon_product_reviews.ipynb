{
 "cells": [
  {
   "cell_type": "markdown",
   "id": "585689aa-f6f9-4191-b6a0-7211b0844455",
   "metadata": {},
   "source": [
    "# Amazon Product Review Sentiments\n",
    "This project focuses on analyzing sentiments expressed in Amazon product reviews. Using natural language processing techniques, the aim is to classify reviews as positive, neutral, or negative based on the text content. By leveraging machine learning algorithms, insights can be derived to understand customer opinions and sentiments towards various Amazon products, aiding businesses in gauging consumer satisfaction and improving product offerings."
   ]
  },
  {
   "cell_type": "markdown",
   "id": "dec50505-5936-4616-aebb-a79c3f762930",
   "metadata": {},
   "source": [
    "## Part 1: Data Explorations"
   ]
  },
  {
   "cell_type": "code",
   "execution_count": 185,
   "id": "077d4c4b-e6db-4aba-8352-b59992911e62",
   "metadata": {},
   "outputs": [],
   "source": [
    "# import libraries\n",
    "import pandas as pd\n",
    "import spacy\n",
    "import datetime as st\n",
    "import matplotlib.pyplot as plt\n",
    "import seaborn as sns\n",
    "from spacytextblob.spacytextblob import SpacyTextBlob\n",
    "from textblob import TextBlob\n",
    "\n",
    "# Adjust pandas display options\n",
    "pd.set_option('display.max_colwidth', None)"
   ]
  },
  {
   "cell_type": "code",
   "execution_count": 52,
   "id": "55067a6a-3b47-41a7-a65d-d4e270e93a78",
   "metadata": {},
   "outputs": [],
   "source": [
    "# import the spacy's small model to perform the NLP processing \n",
    "nlp = spacy.load('en_core_web_sm')"
   ]
  },
  {
   "cell_type": "code",
   "execution_count": 92,
   "id": "7bad1498-73a9-4140-8762-56dabdc657d0",
   "metadata": {},
   "outputs": [
    {
     "name": "stdout",
     "output_type": "stream",
     "text": [
      "<class 'pandas.core.frame.DataFrame'>\n",
      "RangeIndex: 34660 entries, 0 to 34659\n",
      "Data columns (total 21 columns):\n",
      " #   Column                Non-Null Count  Dtype  \n",
      "---  ------                --------------  -----  \n",
      " 0   id                    34660 non-null  object \n",
      " 1   name                  27900 non-null  object \n",
      " 2   asins                 34658 non-null  object \n",
      " 3   brand                 34660 non-null  object \n",
      " 4   categories            34660 non-null  object \n",
      " 5   keys                  34660 non-null  object \n",
      " 6   manufacturer          34660 non-null  object \n",
      " 7   reviews.date          34621 non-null  object \n",
      " 8   reviews.dateAdded     24039 non-null  object \n",
      " 9   reviews.dateSeen      34660 non-null  object \n",
      " 10  reviews.didPurchase   1 non-null      object \n",
      " 11  reviews.doRecommend   34066 non-null  object \n",
      " 12  reviews.id            1 non-null      float64\n",
      " 13  reviews.numHelpful    34131 non-null  float64\n",
      " 14  reviews.rating        34627 non-null  float64\n",
      " 15  reviews.sourceURLs    34660 non-null  object \n",
      " 16  reviews.text          34659 non-null  object \n",
      " 17  reviews.title         34654 non-null  object \n",
      " 18  reviews.userCity      0 non-null      float64\n",
      " 19  reviews.userProvince  0 non-null      float64\n",
      " 20  reviews.username      34653 non-null  object \n",
      "dtypes: float64(5), object(16)\n",
      "memory usage: 5.6+ MB\n"
     ]
    }
   ],
   "source": [
    "# load the review data\n",
    "df = pd.read_csv('amazon_product_reviews.csv', low_memory=False)\n",
    "df.info()"
   ]
  },
  {
   "cell_type": "code",
   "execution_count": 171,
   "id": "3308f60a-6981-4cff-bd8f-57dd60f1331e",
   "metadata": {},
   "outputs": [
    {
     "data": {
      "text/plain": [
       "name\n",
       "Fire Tablet, 7 Display, Wi-Fi, 8 GB - Includes Special Offers, Magenta                                                                                                                                              10966\n",
       "Echo (White),,,\\r\\nEcho (White),,,                                                                                                                                                                                   3309\n",
       "Amazon Kindle Paperwhite - eBook reader - 4 GB - 6 monochrome Paperwhite - touchscreen - Wi-Fi - black,,,                                                                                                            3176\n",
       "All-New Fire HD 8 Tablet, 8 HD Display, Wi-Fi, 16 GB - Includes Special Offers, Magenta                                                                                                                              2814\n",
       "Amazon Fire Tv,,,\\r\\nAmazon Fire Tv,,,                                                                                                                                                                               2527\n",
       "Fire Kids Edition Tablet, 7 Display, Wi-Fi, 16 GB, Green Kid-Proof Case                                                                                                                                              1685\n",
       "Brand New Amazon Kindle Fire 16gb 7 Ips Display Tablet Wifi 16 Gb Blue,,,                                                                                                                                            1038\n",
       "Kindle Voyage E-reader, 6 High-Resolution Display (300 ppi) with Adaptive Built-in Light, PagePress Sensors, Wi-Fi - Includes Special Offers,                                                                         580\n",
       "Fire Tablet, 7 Display, Wi-Fi, 8 GB - Includes Special Offers, Black                                                                                                                                                  372\n",
       "Amazon - Amazon Tap Portable Bluetooth and Wi-Fi Speaker - Black,,,\\r\\nAmazon - Amazon Tap Portable Bluetooth and Wi-Fi Speaker - Black,,,                                                                            318\n",
       "All-New Kindle E-reader - Black, 6 Glare-Free Touchscreen Display, Wi-Fi -  Includes Special Offers,,                                                                                                                 212\n",
       "Amazon 5W USB Official OEM Charger and Power Adapter for Fire Tablets and Kindle eReaders,,,\\r\\nAmazon 5W USB Official OEM Charger and Power Adapter for Fire Tablets and Kindle eReaders,,,                          208\n",
       "All-New Fire HD 8 Tablet, 8 HD Display, Wi-Fi, 32 GB - Includes Special Offers, Magenta                                                                                                                               158\n",
       "Amazon Fire Hd 8 8in Tablet 16gb Black B018szt3bk 6th Gen (2016) Android,,,\\r\\nAmazon Fire Hd 8 8in Tablet 16gb Black B018szt3bk 6th Gen (2016) Android,,,                                                            135\n",
       "Amazon Fire Hd 10 Tablet, Wi-Fi, 16 Gb, Special Offers - Silver Aluminum,,,\\r\\nAmazon Fire Hd 10 Tablet, Wi-Fi, 16 Gb, Special Offers - Silver Aluminum,,,                                                            128\n",
       "Kindle Oasis E-reader with Leather Charging Cover - Merlot, 6 High-Resolution Display (300 ppi), Wi-Fi - Includes Special Offers,,                                                                                     67\n",
       "Amazon 9W PowerFast Official OEM USB Charger and Power Adapter for Fire Tablets and Kindle eReaders,,,\\r\\nAmazon 9W PowerFast Official OEM USB Charger and Power Adapter for Fire Tablets and Kindle eReaders,,,       36\n",
       "Kindle Paperwhite E-reader - White, 6 High-Resolution Display (300 ppi) with Built-in Light, Wi-Fi - Includes Special Offers,,                                                                                         30\n",
       "Amazon - Kindle Voyage - 4GB - Wi-Fi + 3G - Black,,,\\r\\nAmazon - Kindle Voyage - 4GB - Wi-Fi + 3G - Black,,,                                                                                                           25\n",
       "Fire HD 8 Tablet with Alexa, 8 HD Display, 32 GB, Tangerine - with Special Offers,                                                                                                                                     14\n",
       "Kindle Keyboard,,,\\r\\nKindle Keyboard,,,                                                                                                                                                                                9\n",
       "Kindle Dx Leather Cover, Black (fits 9.7 Display, Latest and 2nd Generation Kindle Dxs),,                                                                                                                               9\n",
       "Kindle Paperwhite,,,\\r\\nKindle Paperwhite,,,                                                                                                                                                                            9\n",
       "Amazon Echo and Fire TV Power Adapter,,,\\r\\nAmazon Echo and Fire TV Power Adapter,,,                                                                                                                                    8\n",
       "Kindle Oasis E-reader with Leather Charging Cover - Black, 6 High-Resolution Display (300 ppi), Wi-Fi - Includes Special Offers,,                                                                                       6\n",
       "Fire HD 8 Tablet with Alexa, 8 HD Display, 16 GB, Tangerine - with Special Offers,                                                                                                                                      6\n",
       "New Amazon Kindle Fire Hd 9w Powerfast Adapter Charger + Micro Usb Angle Cable,,,\\r\\nNew Amazon Kindle Fire Hd 9w Powerfast Adapter Charger + Micro Usb Angle Cable,,,                                                  6\n",
       "Amazon Fire Hd 6 Standing Protective Case(4th Generation - 2014 Release), Cayenne Red,,,\\r\\nAmazon Fire Hd 6 Standing Protective Case(4th Generation - 2014 Release), Cayenne Red,,,                                    6\n",
       "Amazon Fire Kids Edition Tablet, 7 Display, Wi-Fi, 16 GB, Blue Kid-Proof Case - Blue                                                                                                                                    6\n",
       "Amazon - Fire 16GB (5th Gen, 2015 Release) - Black,,,\\r\\nAmazon - Fire 16GB (5th Gen, 2015 Release) - Black,,,                                                                                                          5\n",
       "Certified Refurbished Amazon Fire TV with Alexa Voice Remote,,,\\r\\nCertified Refurbished Amazon Fire TV with Alexa Voice Remote,,,                                                                                      4\n",
       "Amazon Kindle Fire 5ft USB to Micro-USB Cable (works with most Micro-USB Tablets),,,\\r\\nAmazon Kindle Fire 5ft USB to Micro-USB Cable (works with most Micro-USB Tablets),,,                                            4\n",
       "Echo (Black),,,\\r\\nEcho (Black),,,                                                                                                                                                                                      3\n",
       "Certified Refurbished Amazon Fire TV (Previous Generation - 1st),,,\\r\\nCertified Refurbished Amazon Fire TV (Previous Generation - 1st),,,                                                                              3\n",
       "Amazon Kindle Touch Leather Case (4th Generation - 2011 Release), Olive Green,,,\\r\\nAmazon Kindle Touch Leather Case (4th Generation - 2011 Release), Olive Green,,,                                                    3\n",
       "Amazon Kindle Lighted Leather Cover,,,\\r\\nAmazon Kindle Lighted Leather Cover,,,                                                                                                                                        2\n",
       "Amazon Kindle Fire Hd (3rd Generation) 8gb,,,\\r\\nAmazon Kindle Fire Hd (3rd Generation) 8gb,,,                                                                                                                          2\n",
       "Certified Refurbished Amazon Fire TV Stick (Previous Generation - 1st),,,\\r\\nCertified Refurbished Amazon Fire TV Stick (Previous Generation - 1st),,,                                                                  1\n",
       "Amazon - Kindle Voyage - 4GB - Wi-Fi + 3G - Black,,,\\r\\nFire HD 8 Tablet with Alexa, 8 HD Display, 16 GB, Tangerine - with Special Offers\",                                                                             1\n",
       "New Amazon Kindle Fire Hd 9w Powerfast Adapter Charger + Micro Usb Angle Cable,,,\\r\\n                                                                                                                                   1\n",
       "Amazon Fire Hd 6 Standing Protective Case(4th Generation - 2014 Release), Cayenne Red,,,\\r\\nAmazon 5W USB Official OEM Charger and Power Adapter for Fire Tablets and Kindle eReaders,,,                                1\n",
       "Amazon Kindle Lighted Leather Cover,,,\\r\\nKindle Keyboard,,,                                                                                                                                                            1\n",
       "Amazon Fire Tv,,,\\r\\nKindle Dx Leather Cover, Black (fits 9.7 Display, Latest and 2nd Generation Kindle Dxs)\",,                                                                                                         1\n",
       "Amazon Standing Protective Case for Fire HD 6 (4th Generation) - Black,,,\\r\\nAmazon Standing Protective Case for Fire HD 6 (4th Generation) - Black,,,                                                                  1\n",
       "Echo (White),,,\\r\\nFire Tablet, 7 Display, Wi-Fi, 8 GB - Includes Special Offers, Tangerine\"                                                                                                                            1\n",
       "Echo (Black),,,\\r\\nAmazon 9W PowerFast Official OEM USB Charger and Power Adapter for Fire Tablets and Kindle eReaders,,,                                                                                               1\n",
       "Coconut Water Red Tea 16.5 Oz (pack of 12),,,\\r\\nAmazon Fire Tv,,,                                                                                                                                                      1\n",
       "Certified Refurbished Amazon Fire TV Stick (Previous Generation - 1st),,,\\r\\nKindle Paperwhite,,,                                                                                                                       1\n",
       "dtype: int64"
      ]
     },
     "execution_count": 171,
     "metadata": {},
     "output_type": "execute_result"
    }
   ],
   "source": [
    "# display the number of reviews per product\n",
    "product_reviews_counts = df.groupby('name').size().sort_values(ascending=False)\n",
    "product_counts"
   ]
  },
  {
   "cell_type": "code",
   "execution_count": 71,
   "id": "6b7a68a1-e827-4a90-9573-4189879af180",
   "metadata": {},
   "outputs": [
    {
     "data": {
      "text/html": [
       "<div>\n",
       "<style scoped>\n",
       "    .dataframe tbody tr th:only-of-type {\n",
       "        vertical-align: middle;\n",
       "    }\n",
       "\n",
       "    .dataframe tbody tr th {\n",
       "        vertical-align: top;\n",
       "    }\n",
       "\n",
       "    .dataframe thead th {\n",
       "        text-align: right;\n",
       "    }\n",
       "</style>\n",
       "<table border=\"1\" class=\"dataframe\">\n",
       "  <thead>\n",
       "    <tr style=\"text-align: right;\">\n",
       "      <th></th>\n",
       "      <th>Feature</th>\n",
       "      <th>Missing Values Count</th>\n",
       "      <th>Percentage Missing</th>\n",
       "    </tr>\n",
       "  </thead>\n",
       "  <tbody>\n",
       "    <tr>\n",
       "      <th>0</th>\n",
       "      <td>id</td>\n",
       "      <td>0</td>\n",
       "      <td>0%</td>\n",
       "    </tr>\n",
       "    <tr>\n",
       "      <th>1</th>\n",
       "      <td>name</td>\n",
       "      <td>6760</td>\n",
       "      <td>20%</td>\n",
       "    </tr>\n",
       "    <tr>\n",
       "      <th>2</th>\n",
       "      <td>asins</td>\n",
       "      <td>2</td>\n",
       "      <td>0%</td>\n",
       "    </tr>\n",
       "    <tr>\n",
       "      <th>3</th>\n",
       "      <td>brand</td>\n",
       "      <td>0</td>\n",
       "      <td>0%</td>\n",
       "    </tr>\n",
       "    <tr>\n",
       "      <th>4</th>\n",
       "      <td>categories</td>\n",
       "      <td>0</td>\n",
       "      <td>0%</td>\n",
       "    </tr>\n",
       "    <tr>\n",
       "      <th>5</th>\n",
       "      <td>keys</td>\n",
       "      <td>0</td>\n",
       "      <td>0%</td>\n",
       "    </tr>\n",
       "    <tr>\n",
       "      <th>6</th>\n",
       "      <td>manufacturer</td>\n",
       "      <td>0</td>\n",
       "      <td>0%</td>\n",
       "    </tr>\n",
       "    <tr>\n",
       "      <th>7</th>\n",
       "      <td>reviews.date</td>\n",
       "      <td>39</td>\n",
       "      <td>0%</td>\n",
       "    </tr>\n",
       "    <tr>\n",
       "      <th>8</th>\n",
       "      <td>reviews.dateAdded</td>\n",
       "      <td>10621</td>\n",
       "      <td>31%</td>\n",
       "    </tr>\n",
       "    <tr>\n",
       "      <th>9</th>\n",
       "      <td>reviews.dateSeen</td>\n",
       "      <td>0</td>\n",
       "      <td>0%</td>\n",
       "    </tr>\n",
       "    <tr>\n",
       "      <th>10</th>\n",
       "      <td>reviews.didPurchase</td>\n",
       "      <td>34659</td>\n",
       "      <td>100%</td>\n",
       "    </tr>\n",
       "    <tr>\n",
       "      <th>11</th>\n",
       "      <td>reviews.doRecommend</td>\n",
       "      <td>594</td>\n",
       "      <td>2%</td>\n",
       "    </tr>\n",
       "    <tr>\n",
       "      <th>12</th>\n",
       "      <td>reviews.id</td>\n",
       "      <td>34659</td>\n",
       "      <td>100%</td>\n",
       "    </tr>\n",
       "    <tr>\n",
       "      <th>13</th>\n",
       "      <td>reviews.numHelpful</td>\n",
       "      <td>529</td>\n",
       "      <td>2%</td>\n",
       "    </tr>\n",
       "    <tr>\n",
       "      <th>14</th>\n",
       "      <td>reviews.rating</td>\n",
       "      <td>33</td>\n",
       "      <td>0%</td>\n",
       "    </tr>\n",
       "    <tr>\n",
       "      <th>15</th>\n",
       "      <td>reviews.sourceURLs</td>\n",
       "      <td>0</td>\n",
       "      <td>0%</td>\n",
       "    </tr>\n",
       "    <tr>\n",
       "      <th>16</th>\n",
       "      <td>reviews.text</td>\n",
       "      <td>1</td>\n",
       "      <td>0%</td>\n",
       "    </tr>\n",
       "    <tr>\n",
       "      <th>17</th>\n",
       "      <td>reviews.title</td>\n",
       "      <td>6</td>\n",
       "      <td>0%</td>\n",
       "    </tr>\n",
       "    <tr>\n",
       "      <th>18</th>\n",
       "      <td>reviews.userCity</td>\n",
       "      <td>34660</td>\n",
       "      <td>100%</td>\n",
       "    </tr>\n",
       "    <tr>\n",
       "      <th>19</th>\n",
       "      <td>reviews.userProvince</td>\n",
       "      <td>34660</td>\n",
       "      <td>100%</td>\n",
       "    </tr>\n",
       "    <tr>\n",
       "      <th>20</th>\n",
       "      <td>reviews.username</td>\n",
       "      <td>7</td>\n",
       "      <td>0%</td>\n",
       "    </tr>\n",
       "  </tbody>\n",
       "</table>\n",
       "</div>"
      ],
      "text/plain": [
       "                 Feature  Missing Values Count Percentage Missing\n",
       "0                     id                     0                 0%\n",
       "1                   name                  6760                20%\n",
       "2                  asins                     2                 0%\n",
       "3                  brand                     0                 0%\n",
       "4             categories                     0                 0%\n",
       "5                   keys                     0                 0%\n",
       "6           manufacturer                     0                 0%\n",
       "7           reviews.date                    39                 0%\n",
       "8      reviews.dateAdded                 10621                31%\n",
       "9       reviews.dateSeen                     0                 0%\n",
       "10   reviews.didPurchase                 34659               100%\n",
       "11   reviews.doRecommend                   594                 2%\n",
       "12            reviews.id                 34659               100%\n",
       "13    reviews.numHelpful                   529                 2%\n",
       "14        reviews.rating                    33                 0%\n",
       "15    reviews.sourceURLs                     0                 0%\n",
       "16          reviews.text                     1                 0%\n",
       "17         reviews.title                     6                 0%\n",
       "18      reviews.userCity                 34660               100%\n",
       "19  reviews.userProvince                 34660               100%\n",
       "20      reviews.username                     7                 0%"
      ]
     },
     "execution_count": 71,
     "metadata": {},
     "output_type": "execute_result"
    }
   ],
   "source": [
    "# Identify any missing data\n",
    "missing_data_rows = []\n",
    "total_rows = len(df)\n",
    "\n",
    "for num in df.columns:\n",
    "    missing_values_count = df[num].isnull().sum()\n",
    "    percentage_missing_per_column = round((missing_values_count / total_rows) * 100)\n",
    "    missing_data_rows.append({'Feature': num,'Missing Values Count': missing_values_count,'Percentage Missing': f\"{percentage_missing_per_column}%\"})\n",
    "\n",
    "# convert the list of dictionaries into a dataFrame\n",
    "missing_output_df = pd.DataFrame(missing_data_rows)\n",
    "missing_output_df"
   ]
  },
  {
   "cell_type": "markdown",
   "id": "0f1e31c6-7913-4cf1-9531-4b900233068d",
   "metadata": {},
   "source": [
    "It appears that only 1 record is missing the review text which I'm going to drop it."
   ]
  },
  {
   "cell_type": "code",
   "execution_count": 56,
   "id": "0edc8b52-b69a-4c33-b387-60ffb2b96e6b",
   "metadata": {},
   "outputs": [
    {
     "data": {
      "text/html": [
       "<div>\n",
       "<style scoped>\n",
       "    .dataframe tbody tr th:only-of-type {\n",
       "        vertical-align: middle;\n",
       "    }\n",
       "\n",
       "    .dataframe tbody tr th {\n",
       "        vertical-align: top;\n",
       "    }\n",
       "\n",
       "    .dataframe thead th {\n",
       "        text-align: right;\n",
       "    }\n",
       "</style>\n",
       "<table border=\"1\" class=\"dataframe\">\n",
       "  <thead>\n",
       "    <tr style=\"text-align: right;\">\n",
       "      <th></th>\n",
       "      <th>reviews.text</th>\n",
       "    </tr>\n",
       "  </thead>\n",
       "  <tbody>\n",
       "    <tr>\n",
       "      <th>0</th>\n",
       "      <td>This product so far has not disappointed. My c...</td>\n",
       "    </tr>\n",
       "    <tr>\n",
       "      <th>1</th>\n",
       "      <td>great for beginner or experienced person. Boug...</td>\n",
       "    </tr>\n",
       "    <tr>\n",
       "      <th>2</th>\n",
       "      <td>Inexpensive tablet for him to use and learn on...</td>\n",
       "    </tr>\n",
       "    <tr>\n",
       "      <th>3</th>\n",
       "      <td>I've had my Fire HD 8 two weeks now and I love...</td>\n",
       "    </tr>\n",
       "    <tr>\n",
       "      <th>4</th>\n",
       "      <td>I bought this for my grand daughter when she c...</td>\n",
       "    </tr>\n",
       "    <tr>\n",
       "      <th>...</th>\n",
       "      <td>...</td>\n",
       "    </tr>\n",
       "    <tr>\n",
       "      <th>34655</th>\n",
       "      <td>This is not appreciably faster than any other ...</td>\n",
       "    </tr>\n",
       "    <tr>\n",
       "      <th>34656</th>\n",
       "      <td>Amazon should include this charger with the Ki...</td>\n",
       "    </tr>\n",
       "    <tr>\n",
       "      <th>34657</th>\n",
       "      <td>Love my Kindle Fire but I am really disappoint...</td>\n",
       "    </tr>\n",
       "    <tr>\n",
       "      <th>34658</th>\n",
       "      <td>I was surprised to find it did not come with a...</td>\n",
       "    </tr>\n",
       "    <tr>\n",
       "      <th>34659</th>\n",
       "      <td>to spite the fact that i have nothing but good...</td>\n",
       "    </tr>\n",
       "  </tbody>\n",
       "</table>\n",
       "<p>34659 rows × 1 columns</p>\n",
       "</div>"
      ],
      "text/plain": [
       "                                            reviews.text\n",
       "0      This product so far has not disappointed. My c...\n",
       "1      great for beginner or experienced person. Boug...\n",
       "2      Inexpensive tablet for him to use and learn on...\n",
       "3      I've had my Fire HD 8 two weeks now and I love...\n",
       "4      I bought this for my grand daughter when she c...\n",
       "...                                                  ...\n",
       "34655  This is not appreciably faster than any other ...\n",
       "34656  Amazon should include this charger with the Ki...\n",
       "34657  Love my Kindle Fire but I am really disappoint...\n",
       "34658  I was surprised to find it did not come with a...\n",
       "34659  to spite the fact that i have nothing but good...\n",
       "\n",
       "[34659 rows x 1 columns]"
      ]
     },
     "execution_count": 56,
     "metadata": {},
     "output_type": "execute_result"
    }
   ],
   "source": [
    "# select the reviews from the 'reviews.text' column and remove missing values\n",
    "text = df[['reviews.text']].dropna()\n",
    "text"
   ]
  },
  {
   "cell_type": "code",
   "execution_count": 172,
   "id": "686d1639-7ed0-4977-9c8c-234f2af35510",
   "metadata": {},
   "outputs": [
    {
     "data": {
      "text/plain": [
       "'For the money the best tablet you can buy. I bought a bunch of these for my nieces to play with. I love my kindle and for the money it allows them to do a wide variety of activities.'"
      ]
     },
     "execution_count": 172,
     "metadata": {},
     "output_type": "execute_result"
    }
   ],
   "source": [
    "# display a sample review text from the dataset\n",
    "sample_review = df['reviews.text'][3800]\n",
    "sample_review"
   ]
  },
  {
   "cell_type": "code",
   "execution_count": 173,
   "id": "dd384945-f65a-4c89-9eed-01dbcc3d6028",
   "metadata": {},
   "outputs": [
    {
     "name": "stdout",
     "output_type": "stream",
     "text": [
      "\n",
      "The reviews are collected between 2010-07-09T00:00:00Z and 2018-04-18T00:00:00.000Z\n",
      "\n"
     ]
    }
   ],
   "source": [
    "# get the time period that the reviews were collected in\n",
    "df['reviews.dateAdded'] = pd.to_datetime(df['reviews.dateAdded']).dt.date\n",
    "\n",
    "# Filter out NaT values\n",
    "filtered_dates = df['reviews.date'].dropna()\n",
    "\n",
    "# Get the minimum and maximum dates\n",
    "min_date = min(filtered_dates)\n",
    "max_date = max(filtered_dates)\n",
    "\n",
    "# Print the result\n",
    "print(f\"\\nThe reviews are collected between {min_date} and {max_date}\\n\")"
   ]
  },
  {
   "cell_type": "markdown",
   "id": "d13c67f0-d6d4-4d92-b7e0-e80037e3acb7",
   "metadata": {},
   "source": [
    "## Part 2: Data Preprocessing\n",
    "At this stage, the data will be converted to string format, lowercased, lemmatized, stripped of whitespace, tokenised (converted to vector) and have stopwords and punctuation removed."
   ]
  },
  {
   "cell_type": "code",
   "execution_count": 156,
   "id": "79ed6a18-fe31-4941-b684-b5be889aa70d",
   "metadata": {},
   "outputs": [
    {
     "data": {
      "text/plain": [
       "0        product far disappoint child love use like abi...\n",
       "1          great beginner experienced person buy gift love\n",
       "2        inexpensive tablet use learn step nabi thrille...\n",
       "3        fire hd 8 week love tablet great value prime m...\n",
       "4        buy grand daughter come visit set user enter a...\n",
       "                               ...                        \n",
       "34655    appreciably fast 1.8 high amp charger kindle k...\n",
       "34656    amazon include charger kindle fact charge extr...\n",
       "34657    love kindle fire disappointed kindle power fas...\n",
       "34658    surprised find come type charge cord purchase ...\n",
       "34659    spite fact good thing amazon anthe get love fi...\n",
       "Name: cleaned_review, Length: 34660, dtype: object"
      ]
     },
     "execution_count": 156,
     "metadata": {},
     "output_type": "execute_result"
    }
   ],
   "source": [
    "# Function to clean and preprocess text using spaCy\n",
    "def preprocess_text(text):\n",
    "    \"\"\"\n",
    "    Preprocesses the input text by performing the following steps:\n",
    "    1. Converts the input text to a string (to ensure compatibility with spaCy).\n",
    "    2. Processes the text with spaCy to create a doc object.\n",
    "    3. Extracts tokens from the doc object, performing the following for each token:\n",
    "        - Converts the token to its lemma (base form).\n",
    "        - Converts the token to lowercase.\n",
    "        - Strips any leading or trailing whitespace from the token.\n",
    "        - Excludes tokens that are stopwords (common words with little semantic value).\n",
    "        - Excludes tokens that are punctuation.\n",
    "    4. Joins the processed tokens into a single string with space as a delimiter.\n",
    "    \n",
    "    Args:\n",
    "    text (str): The input text to be processed.\n",
    "\n",
    "    Returns:\n",
    "    str: A string of processed tokens ready for further analysis.\n",
    "    \"\"\"\n",
    "    doc = nlp(str(text)) \n",
    "    tokens = [token.lemma_.lower().strip() for token in doc if not token.is_stop and not token.is_punct]\n",
    "    return ' '.join(tokens)\n",
    "\n",
    "# Apply the preprocessing function to each review\n",
    "df['cleaned_review'] = df['reviews.text'].apply(preprocess_text)\n",
    "df['cleaned_review']"
   ]
  },
  {
   "cell_type": "markdown",
   "id": "6ffb14d7-345d-4373-8593-23e67626763d",
   "metadata": {},
   "source": [
    "## Part 3: Sentiment Model"
   ]
  },
  {
   "cell_type": "code",
   "execution_count": 157,
   "id": "e2bc7a67-6777-4a36-ba94-1a6880c9ea1a",
   "metadata": {},
   "outputs": [],
   "source": [
    "# Function to predict sentiment using TextBlob\n",
    "def predict_sentiment(text):\n",
    "    \"\"\"\n",
    "    Predicts the sentiment of the input text using the TextBlob library.\n",
    "    The function performs the following steps:\n",
    "    1. Converts the input text to a string (to ensure compatibility with TextBlob).\n",
    "    2. Creates a TextBlob object from the input text.\n",
    "    3. Calculates the polarity of the text using TextBlob's sentiment analysis:\n",
    "        - Polarity is a float within the range [-1.0, 1.0].\n",
    "        - Positive polarity indicates positive sentiment.\n",
    "        - Negative polarity indicates negative sentiment.\n",
    "        - Polarity of zero indicates neutral sentiment.\n",
    "    4. Returns the sentiment as a string: 'Positive', 'Negative', or 'Neutral', based on the polarity score.\n",
    "\n",
    "    Args:\n",
    "    text (str): The input text to be analyzed for sentiment.\n",
    "\n",
    "    Returns:\n",
    "    str: The predicted sentiment of the text ('Positive', 'Negative', or 'Neutral').\n",
    "    \"\"\"\n",
    "    blob = TextBlob(str(text))\n",
    "    polarity = blob.sentiment.polarity\n",
    "    if polarity > 0:\n",
    "        return 'Positive'\n",
    "    elif polarity < 0:\n",
    "        return 'Negative'\n",
    "    else:\n",
    "        return 'Neutral'\n",
    "\n",
    "# Add a sentiment column to the dataframe\n",
    "df['sentiment'] = df['cleaned_review'].apply(predict_sentiment)"
   ]
  },
  {
   "cell_type": "code",
   "execution_count": 44,
   "id": "af4fd884-2f7c-4d59-9334-f467bfa80417",
   "metadata": {},
   "outputs": [
    {
     "data": {
      "text/plain": [
       "array(['Positive', 'Neutral', 'Negative'], dtype=object)"
      ]
     },
     "execution_count": 44,
     "metadata": {},
     "output_type": "execute_result"
    }
   ],
   "source": [
    "# check if the function was able to detect all types of sentiment in the text\n",
    "df['sentiment'].unique()"
   ]
  },
  {
   "cell_type": "markdown",
   "id": "2c638261-6e36-4632-b2cf-c938f4657dec",
   "metadata": {},
   "source": [
    "## Part 4: Assess Sentiments"
   ]
  },
  {
   "cell_type": "code",
   "execution_count": 197,
   "id": "c391849f-57e6-491e-8841-d8de578ace72",
   "metadata": {},
   "outputs": [
    {
     "name": "stdout",
     "output_type": "stream",
     "text": [
      "Review: integration home automation transparent hope device offer way skill connect system run amazon google apple microsoft amazon research good time purchase make simple deliver promise\n",
      "Sentiment: Positive\n",
      "\n",
      "Review: love time go black unplug hook order work multiple time reg fire stick anther tv\n",
      "Sentiment: Positive\n",
      "\n",
      "Review: work great sound clear loud recommend\n",
      "Sentiment: Positive\n",
      "\n",
      "Review: great job voice recognition work different service capability love alexa\n",
      "Sentiment: Positive\n",
      "\n",
      "Review: far good medium box market easy setup extremely easy use kodi user far good box a+++\n",
      "Sentiment: Positive\n",
      "\n",
      "Review: pick purchase echo want battery power work echo use device music great able hear pandora amazon music library speaker use phone laptop etc grab tap house outside deck wireless reach\n",
      "Sentiment: Positive\n",
      "\n",
      "Review: great product $ exactly need\n",
      "Sentiment: Positive\n",
      "\n",
      "Review: buy small echo trade large superior sound happy\n",
      "Sentiment: Positive\n",
      "\n",
      "Review: perform way say more!awesome buy\n",
      "Sentiment: Neutral\n",
      "\n",
      "Review: absolutely love love love echo simple set great sound quality\n",
      "Sentiment: Positive\n",
      "\n",
      "Review: save cable bill good quality thank\n",
      "Sentiment: Positive\n",
      "\n",
      "Review: tablet meet immediate need email game social networking pleased streaming favorite site little slow maybe network amazon technical service excellent bad day frustrate start easy right mind technician deescalate excellently\n",
      "Sentiment: Positive\n",
      "\n",
      "Review: work great reasonably price easy use perfect kindle quick charge lightweight compact store easily thank info unit purchase new kindle\n",
      "Sentiment: Positive\n",
      "\n",
      "Review: absolutely love fire tv amazing\n",
      "Sentiment: Positive\n",
      "\n",
      "Review: good tablet daughter need\n",
      "Sentiment: Positive\n",
      "\n"
     ]
    }
   ],
   "source": [
    "# Test the sentiment analysis function on a few random sample product reviews\n",
    "sample_reviews = df['cleaned_review'].sample(15).tolist()\n",
    "sample_predictions = [predict_sentiment(review) for review in sample_reviews]\n",
    "\n",
    "# Iterate over pairs of sample reviews and their predicted sentiments\n",
    "for review, sentiment in zip(sample_reviews, sample_predictions):\n",
    "    # Print each review along with its predicted sentiment in a formatted manner\n",
    "    print(f\"Review: {review}\\nSentiment: {sentiment}\\n\")"
   ]
  },
  {
   "cell_type": "markdown",
   "id": "4f3c64ed-b999-4911-a2a4-db5bf2bb42a1",
   "metadata": {},
   "source": [
    "After reviewing the sample results above, it's evident that the sentiments are accurately identified based on tokens like 'good,' 'glad,' and 'love,' among others. "
   ]
  },
  {
   "cell_type": "code",
   "execution_count": 198,
   "id": "936b000a-1b11-4da3-a7b6-f3960f09d15d",
   "metadata": {},
   "outputs": [
    {
     "data": {
      "text/html": [
       "<div>\n",
       "<style scoped>\n",
       "    .dataframe tbody tr th:only-of-type {\n",
       "        vertical-align: middle;\n",
       "    }\n",
       "\n",
       "    .dataframe tbody tr th {\n",
       "        vertical-align: top;\n",
       "    }\n",
       "\n",
       "    .dataframe thead th {\n",
       "        text-align: right;\n",
       "    }\n",
       "</style>\n",
       "<table border=\"1\" class=\"dataframe\">\n",
       "  <thead>\n",
       "    <tr style=\"text-align: right;\">\n",
       "      <th></th>\n",
       "      <th>reviews.text</th>\n",
       "      <th>cleaned_review</th>\n",
       "      <th>sentiment</th>\n",
       "    </tr>\n",
       "  </thead>\n",
       "  <tbody>\n",
       "    <tr>\n",
       "      <th>34564</th>\n",
       "      <td>Amazon Fire TV is worth the cost for me , I watch a lot of shows.The game controller and games, not so much. They remind me of the old style joy stick games...sorry I bought that part., its hard to use.</td>\n",
       "      <td>amazon fire tv worth cost watch lot show game controller game remind old style joy stick game sorry buy hard use</td>\n",
       "      <td>Negative</td>\n",
       "    </tr>\n",
       "    <tr>\n",
       "      <th>34572</th>\n",
       "      <td>I like how it runs Android, so I can sideload any app for Android on the Amazon fire TV. I just wish it supports NTFS file system and have a volume control and power for the actual TV (like a universal remote)</td>\n",
       "      <td>like run android sideload app android amazon fire tv wish support ntfs file system volume control power actual tv like universal remote</td>\n",
       "      <td>Negative</td>\n",
       "    </tr>\n",
       "    <tr>\n",
       "      <th>34602</th>\n",
       "      <td>This Amazon Fire TV is my second unit in my home. I haven't paid for cable since I bought my first unit a couple years ago. If you are an Amazon Prime member, you should seriously already own one.</td>\n",
       "      <td>amazon fire tv second unit home pay cable buy unit couple year ago amazon prime member seriously</td>\n",
       "      <td>Negative</td>\n",
       "    </tr>\n",
       "    <tr>\n",
       "      <th>34614</th>\n",
       "      <td>We had two AppleTVs - one in the master bedroom and one in the living room. We could not watch both simultaneously because the signal permeated the shared wall and changed the channel of the other TV. We got the AmazonTV to remedy this. While it did rectify this problem, we find we prefer the ease and simplicity of the AppleTV over the AmazonTV. The Amazon is cumbersome and difficult to navigate.</td>\n",
       "      <td>appletvs master bedroom living room watch simultaneously signal permeate share wall change channel tv get amazontv remedy rectify problem find prefer ease simplicity appletv amazontv amazon cumbersome difficult navigate</td>\n",
       "      <td>Negative</td>\n",
       "    </tr>\n",
       "    <tr>\n",
       "      <th>34654</th>\n",
       "      <td>This is exactly like any other usb power charger, making it unnecessary. A basic charger used for an ipod works to charge the kindle fire within 3-4 hours.</td>\n",
       "      <td>exactly like usb power charger make unnecessary basic charger ipod work charge kindle fire 3 4 hour</td>\n",
       "      <td>Negative</td>\n",
       "    </tr>\n",
       "  </tbody>\n",
       "</table>\n",
       "</div>"
      ],
      "text/plain": [
       "                                                                                                                                                                                                                                                                                                                                                                                                          reviews.text  \\\n",
       "34564                                                                                                                                                                                                       Amazon Fire TV is worth the cost for me , I watch a lot of shows.The game controller and games, not so much. They remind me of the old style joy stick games...sorry I bought that part., its hard to use.   \n",
       "34572                                                                                                                                                                                                I like how it runs Android, so I can sideload any app for Android on the Amazon fire TV. I just wish it supports NTFS file system and have a volume control and power for the actual TV (like a universal remote)   \n",
       "34602                                                                                                                                                                                                             This Amazon Fire TV is my second unit in my home. I haven't paid for cable since I bought my first unit a couple years ago. If you are an Amazon Prime member, you should seriously already own one.   \n",
       "34614  We had two AppleTVs - one in the master bedroom and one in the living room. We could not watch both simultaneously because the signal permeated the shared wall and changed the channel of the other TV. We got the AmazonTV to remedy this. While it did rectify this problem, we find we prefer the ease and simplicity of the AppleTV over the AmazonTV. The Amazon is cumbersome and difficult to navigate.   \n",
       "34654                                                                                                                                                                                                                                                      This is exactly like any other usb power charger, making it unnecessary. A basic charger used for an ipod works to charge the kindle fire within 3-4 hours.   \n",
       "\n",
       "                                                                                                                                                                                                                    cleaned_review  \\\n",
       "34564                                                                                                             amazon fire tv worth cost watch lot show game controller game remind old style joy stick game sorry buy hard use   \n",
       "34572                                                                                      like run android sideload app android amazon fire tv wish support ntfs file system volume control power actual tv like universal remote   \n",
       "34602                                                                                                                             amazon fire tv second unit home pay cable buy unit couple year ago amazon prime member seriously   \n",
       "34614  appletvs master bedroom living room watch simultaneously signal permeate share wall change channel tv get amazontv remedy rectify problem find prefer ease simplicity appletv amazontv amazon cumbersome difficult navigate   \n",
       "34654                                                                                                                          exactly like usb power charger make unnecessary basic charger ipod work charge kindle fire 3 4 hour   \n",
       "\n",
       "      sentiment  \n",
       "34564  Negative  \n",
       "34572  Negative  \n",
       "34602  Negative  \n",
       "34614  Negative  \n",
       "34654  Negative  "
      ]
     },
     "execution_count": 198,
     "metadata": {},
     "output_type": "execute_result"
    }
   ],
   "source": [
    "# get the reviews columns along with the achieved sentiment of the last 5 rows  where sentiments are tagged as negative\n",
    "df[df['sentiment'] == 'Negative'][['reviews.text', 'cleaned_review', 'sentiment']].tail()"
   ]
  },
  {
   "cell_type": "markdown",
   "id": "4058fb83-70a3-4588-8da9-51823b6f617a",
   "metadata": {},
   "source": [
    "Among the example reviews above, the 3rd one seems to be incorrectly labeled as Negative as the reviewer strongly recommends this product to the reader."
   ]
  },
  {
   "cell_type": "code",
   "execution_count": 199,
   "id": "2ca4571e-dc14-49ae-be3d-7e1ef6d72126",
   "metadata": {},
   "outputs": [
    {
     "name": "stdout",
     "output_type": "stream",
     "text": [
      "Review 1: buy gift 86 yr old mom stalk kid grandkid fb master few.minutes minimal instruction watch post\n",
      "Review 2: tablet okay screen small wifi work wifi turn manually reset camera nice resolution sharp need sense version camera big screen size\n",
      "Similarity: 0.8404784283601816\n"
     ]
    },
    {
     "name": "stderr",
     "output_type": "stream",
     "text": [
      "/var/folders/jf/9cfc0stn05v519631ltpqjmm0000gn/T/ipykernel_52408/1750286037.py:17: UserWarning: [W007] The model you're using has no word vectors loaded, so the result of the Doc.similarity method will be based on the tagger, parser and NER, which may not give useful similarity judgements. This may happen if you're using one of the small models, e.g. `en_core_web_sm`, which don't ship with word vectors and only use context-sensitive tensors. You can always add your own word vectors, or use one of the larger models instead if available.\n",
      "  similarity_score = doc1.similarity(doc2)\n"
     ]
    }
   ],
   "source": [
    "# Function to find the similarity between 2 reviews\n",
    "def calculate_similarity(review1, review2):\n",
    "    \"\"\"\n",
    "    Calculates the similarity between two reviews using spaCy's similarity score.\n",
    "\n",
    "    Args:\n",
    "    review1 (str): The first review.\n",
    "    review2 (str): The second review.\n",
    "\n",
    "    Returns:\n",
    "    float: The similarity score between the two reviews (a value between 0 and 1).\n",
    "    \"\"\"\n",
    "    # Process the reviews using spaCy\n",
    "    doc1 = nlp(review1)\n",
    "    doc2 = nlp(review2)\n",
    "    \n",
    "    # Calculate the similarity between the two documents\n",
    "    similarity_score = doc1.similarity(doc2)\n",
    "    \n",
    "    return similarity_score\n",
    "\n",
    "# Example usage:\n",
    "review1 = df['cleaned_review'][200]\n",
    "review2 = df['cleaned_review'][8900]\n",
    "similarity = calculate_similarity(review1, review2)\n",
    "print(f\"Review 1: {review1}\")\n",
    "print(f\"Review 2: {review2}\")\n",
    "print(\"Similarity:\", similarity)"
   ]
  },
  {
   "cell_type": "markdown",
   "id": "1ee81c20-f307-4bff-9c94-744b3cb542c5",
   "metadata": {},
   "source": [
    "The similarity is calculated based on cosine similarity on the word vectors. However, I'm uncertain how the above reviews received a high similarity score, as conceptually they don't appear to be very similar."
   ]
  },
  {
   "cell_type": "code",
   "execution_count": 200,
   "id": "1819e74a-bec2-47a1-a1d8-0480b41f0443",
   "metadata": {},
   "outputs": [
    {
     "name": "stdout",
     "output_type": "stream",
     "text": [
      "Dataset Summary:\n",
      "- Total reviews: 34660\n",
      "\n",
      "Sample Original Review:\n",
      "This product so far has not disappointed. My children love to use it and I like the ability to monitor control what content they see with ease.\n",
      "\n",
      "Sample Cleaned Review:\n",
      "product far disappoint child love use like ability monitor control content ease\n",
      "\n",
      "Processing Steps:\n",
      "- Loaded spaCy model `en_core_web_sm`.\n",
      "- Cleaned text using spaCy attributes: is_stop, lower, strip.\n",
      "- Performed sentiment analysis using TextBlob's polarity.\n",
      "- Extracted 'review.text' column and removed missing values using dropna().\n",
      "- Defined a function to predict sentiment based on TextBlob's sentiment analysis.\n",
      "- Implemented similarity search using spaCy's similarity feature.\n",
      "\n"
     ]
    },
    {
     "data": {
      "image/png": "[encoded data removed]",
      "text/plain": [
       "<Figure size 800x600 with 1 Axes>"
      ]
     },
     "metadata": {},
     "output_type": "display_data"
    },
    {
     "name": "stdout",
     "output_type": "stream",
     "text": [
      "\n",
      "Insights:\n",
      "- The model uses TextBlob for basic sentiment analysis.\n",
      "- The similarity feature helps find reviews that are similar in context.\n",
      "- Further improvements could include using more sophisticated models for better accuracy.\n"
     ]
    }
   ],
   "source": [
    "# Summary Report\n",
    "def summary_report(df):\n",
    "    total_reviews = df.shape[0]\n",
    "    sample_review = df['reviews.text'].iloc[0]\n",
    "    cleaned_review = preprocess_text(sample_review)\n",
    "\n",
    "    print(f\"Dataset Summary:\\n- Total reviews: {total_reviews}\\n\")\n",
    "    print(f\"Sample Original Review:\\n{sample_review}\\n\")\n",
    "    print(f\"Sample Cleaned Review:\\n{cleaned_review}\\n\")\n",
    "    print(\"Processing Steps:\")\n",
    "    print(\"- Loaded spaCy model `en_core_web_sm`.\")\n",
    "    print(\"- Cleaned text using spaCy attributes: is_stop, lower, strip.\")\n",
    "    print(\"- Performed sentiment analysis using TextBlob's polarity.\")\n",
    "    print(\"- Extracted 'review.text' column and removed missing values using dropna().\")\n",
    "    print(\"- Defined a function to predict sentiment based on TextBlob's sentiment analysis.\")\n",
    "    print(\"- Implemented similarity search using spaCy's similarity feature.\\n\")\n",
    "\n",
    "    # Create a bar plot\n",
    "    sentiment_counts = df['sentiment'].value_counts()\n",
    "    \n",
    "    # Convert Series to DataFrame\n",
    "    sentiment_counts_df = sentiment_counts.reset_index()\n",
    "    sentiment_counts_df.columns = ['Sentiment', 'Count']\n",
    "    \n",
    "    # Create a bar plot\n",
    "    plt.figure(figsize=(8, 6))\n",
    "    sns.barplot(x='Sentiment', y='Count', data=sentiment_counts_df)\n",
    "    plt.title('Sentiment Distribution')\n",
    "    plt.xlabel('Sentiment')\n",
    "    plt.ylabel('Count')\n",
    "    plt.show()\n",
    "    print(\"\\nInsights:\")\n",
    "    print(\"- The model uses TextBlob for basic sentiment analysis.\")\n",
    "    print(\"- The similarity feature helps find reviews that are similar in context.\")\n",
    "    print(\"- Further improvements could include using more sophisticated models for better accuracy.\")\n",
    "\n",
    "summary_report(df)"
   ]
  },
  {
   "cell_type": "markdown",
   "id": "307fa119-0b5e-42a5-bacd-9b212c67d27f",
   "metadata": {},
   "source": [
    "89% of reviews are labelled as **Positive** by the sentiment model."
   ]
  }
 ],
 "metadata": {
  "kernelspec": {
   "display_name": "Python 3 (ipykernel)",
   "language": "python",
   "name": "python3"
  },
  "language_info": {
   "codemirror_mode": {
    "name": "ipython",
    "version": 3
   },
   "file_extension": ".py",
   "mimetype": "text/x-python",
   "name": "python",
   "nbconvert_exporter": "python",
   "pygments_lexer": "ipython3",
   "version": "3.12.1"
  }
 },
 "nbformat": 4,
 "nbformat_minor": 5
}
